{
 "cells": [
  {
   "cell_type": "code",
   "execution_count": null,
   "metadata": {
    "ExecuteTime": {
     "end_time": "2020-11-11T14:30:47.956720Z",
     "start_time": "2020-11-11T14:30:47.952307Z"
    }
   },
   "outputs": [],
   "source": [
    "from bs4 import BeautifulSoup\n",
    "from selenium import webdriver\n",
    "from tika import parser # PDF Parser\n",
    "import pandas as pd\n",
    "import requests\n",
    "import time\n",
    "import re"
   ]
  },
  {
   "cell_type": "code",
   "execution_count": null,
   "metadata": {
    "ExecuteTime": {
     "end_time": "2020-11-11T14:19:12.930698Z",
     "start_time": "2020-11-11T14:19:12.925557Z"
    }
   },
   "outputs": [],
   "source": [
    "URL = 'https://www.iitp.kr/kr/1/knowledge/periodicalViewA.it'\n",
    "payload = {'searClassCode': 'B_ITA_01'\n",
    ",'masterCode': 'publication'\n",
    ",'identifier': 1155}\n",
    "pages = [x for x in range(1036, 1156)]"
   ]
  },
  {
   "cell_type": "code",
   "execution_count": null,
   "metadata": {
    "ExecuteTime": {
     "end_time": "2020-11-11T14:20:13.559933Z",
     "start_time": "2020-11-11T14:19:22.291781Z"
    }
   },
   "outputs": [],
   "source": [
    "target = []\n",
    "for x in pages:\n",
    "    payload['identifier'] = x\n",
    "    r = requests.get(URL, params = payload)\n",
    "    target.append(r.url)"
   ]
  },
  {
   "cell_type": "code",
   "execution_count": null,
   "metadata": {
    "ExecuteTime": {
     "end_time": "2020-11-11T14:18:53.027957Z",
     "start_time": "2020-11-11T14:18:50.837980Z"
    }
   },
   "outputs": [],
   "source": [
    "# Disable Chrome's PDF Viewer\n",
    "download_dir = '../IITP ICT 신기술 동향/'\n",
    "prefs = {\n",
    "\"download.default_directory\": download_dir, #Change default directory for downloads\n",
    "\"download.prompt_for_download\": False, #To auto download the file\n",
    "\"download.directory_upgrade\": True,\n",
    "\"plugins.always_open_pdf_externally\": True #It will not show PDF directly in chrome\n",
    "}\n",
    "\n",
    "chrome_options = webdriver.ChromeOptions()\n",
    "#chrome_options.add_argument('headless')\n",
    "chrome_options.add_experimental_option('prefs', prefs)\n",
    "\n",
    "driver = webdriver.Chrome('./chromedriver', chrome_options=chrome_options)"
   ]
  },
  {
   "cell_type": "code",
   "execution_count": null,
   "metadata": {
    "ExecuteTime": {
     "end_time": "2020-11-11T14:19:06.599747Z",
     "start_time": "2020-11-11T14:18:53.031528Z"
    }
   },
   "outputs": [],
   "source": [
    "for link in target:\n",
    "    driver.get(link)\n",
    "    time.sleep(2.5)\n",
    "    try:\n",
    "        driver.find_element_by_xpath('//*[@id=\"conArea\"]/div[1]/div[1]/div/div[3]/ul/li/a').click()\n",
    "    except:\n",
    "        print('Page not found 404 error')"
   ]
  },
  {
   "cell_type": "code",
   "execution_count": null,
   "metadata": {
    "ExecuteTime": {
     "end_time": "2020-11-11T14:18:38.368392Z",
     "start_time": "2020-11-11T14:18:38.330983Z"
    }
   },
   "outputs": [],
   "source": [
    "driver.close()"
   ]
  },
  {
   "cell_type": "code",
   "execution_count": null,
   "metadata": {
    "ExecuteTime": {
     "end_time": "2020-11-11T14:22:52.110099Z",
     "start_time": "2020-11-11T14:22:15.614666Z"
    }
   },
   "outputs": [],
   "source": [
    "report = parser.from_file('../../Downloads/file1014888888178779151-1854.pdf')"
   ]
  },
  {
   "cell_type": "code",
   "execution_count": null,
   "metadata": {
    "ExecuteTime": {
     "end_time": "2020-11-11T15:36:10.072245Z",
     "start_time": "2020-11-11T15:36:10.062677Z"
    }
   },
   "outputs": [],
   "source": [
    "def preprocessing(text):\n",
    "    # 불필요 Text 정리\n",
    "    \n",
    "    text = text.split('ICT 신기술 최신')[1]\n",
    "    text = re.sub('\\n', ' ', text)\n",
    "    text = re.sub('\\t', '', text)\n",
    "    text = re.sub('\\r', '', text)\n",
    "    text = re.sub('III', '', text)\n",
    "    text = re.sub('(http|https):\\/\\/(\\w+:{0,1}\\w*@)?(\\S+)(:[0-9]+)?(\\/|\\/([\\w#!:.?+=&%@!\\-\\/]))?', '', text)\n",
    "    text = re.sub('(www)(\\S+)(:[0-9]+)?(\\/|\\/([\\w#!:.?+=&%@!\\-\\/]))?', '', text)\n",
    "    text = re.sub('n', '', text)\n",
    "    text = re.sub('Ⅲ', '', text)\n",
    "    text = re.sub('[▸|◾|☎]', '', text)\n",
    "    text = re.sub('d{3}-\\d{4}-\\d{4}', '', text)\n",
    "    text = re.sub('^[a-zA-Z0-9+-_.]+@[a-zA-Z0-9-]+\\.[a-zA-Z0-9-.]+$', '', text)\n",
    "    text = re.sub('\\\\\\\\\\\\\\\\', '', text)\n",
    "    text = re.sub('\\\\\\\\' , '', text)\n",
    "   # text = re.sub('[\\[.*\\]]', '', text)\n",
    "    text = re.sub('^[\\[그림.*]]$', '', text)\n",
    "    text = text.split('사업책임자')[0]\n",
    "    \n",
    "    return text"
   ]
  },
  {
   "cell_type": "code",
   "execution_count": null,
   "metadata": {
    "ExecuteTime": {
     "end_time": "2020-11-11T15:36:10.270888Z",
     "start_time": "2020-11-11T15:36:10.259913Z"
    }
   },
   "outputs": [],
   "source": [
    "res = preprocessing(str(report))\n",
    "res"
   ]
  },
  {
   "cell_type": "code",
   "execution_count": null,
   "metadata": {},
   "outputs": [],
   "source": []
  }
 ],
 "metadata": {
  "kernelspec": {
   "display_name": "Python 3",
   "language": "python",
   "name": "python3"
  },
  "language_info": {
   "codemirror_mode": {
    "name": "ipython",
    "version": 3
   },
   "file_extension": ".py",
   "mimetype": "text/x-python",
   "name": "python",
   "nbconvert_exporter": "python",
   "pygments_lexer": "ipython3",
   "version": "3.8.3"
  },
  "toc": {
   "base_numbering": 1,
   "nav_menu": {},
   "number_sections": true,
   "sideBar": true,
   "skip_h1_title": false,
   "title_cell": "Table of Contents",
   "title_sidebar": "Contents",
   "toc_cell": false,
   "toc_position": {},
   "toc_section_display": true,
   "toc_window_display": false
  }
 },
 "nbformat": 4,
 "nbformat_minor": 4
}
