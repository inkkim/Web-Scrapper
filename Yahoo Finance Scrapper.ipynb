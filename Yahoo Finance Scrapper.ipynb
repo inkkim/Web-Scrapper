{
 "cells": [
  {
   "cell_type": "code",
   "execution_count": null,
   "metadata": {
    "ExecuteTime": {
     "end_time": "2020-10-21T10:13:22.892972Z",
     "start_time": "2020-10-21T10:13:22.887840Z"
    }
   },
   "outputs": [],
   "source": [
    "import requests\n",
    "import time\n",
    "from selenium import webdriver\n",
    "from bs4 import BeautifulSoup\n",
    "from selenium.webdriver.chrome.options import Options"
   ]
  },
  {
   "cell_type": "code",
   "execution_count": null,
   "metadata": {
    "ExecuteTime": {
     "end_time": "2020-10-21T10:01:39.090111Z",
     "start_time": "2020-10-21T10:01:39.087072Z"
    }
   },
   "outputs": [],
   "source": [
    "url = 'https://finance.yahoo.com/news/'"
   ]
  },
  {
   "cell_type": "code",
   "execution_count": null,
   "metadata": {
    "ExecuteTime": {
     "end_time": "2020-10-21T10:13:38.020448Z",
     "start_time": "2020-10-21T10:13:38.016839Z"
    }
   },
   "outputs": [],
   "source": [
    "chrome_options = Options()\n",
    "chrome_options.add_argument(\"--headless\") # 브라우저가 화면에 뜨지 않고 내부적으로 실행\n"
   ]
  },
  {
   "cell_type": "code",
   "execution_count": null,
   "metadata": {
    "ExecuteTime": {
     "end_time": "2020-10-21T10:13:57.740111Z",
     "start_time": "2020-10-21T10:13:57.330406Z"
    }
   },
   "outputs": [],
   "source": [
    "driver.close()"
   ]
  },
  {
   "cell_type": "code",
   "execution_count": null,
   "metadata": {
    "ExecuteTime": {
     "end_time": "2020-10-21T10:14:05.022592Z",
     "start_time": "2020-10-21T10:14:03.255568Z"
    }
   },
   "outputs": [],
   "source": [
    "driver = webdriver.Chrome('./TOY/chromedriver', options=chrome_options)"
   ]
  },
  {
   "cell_type": "code",
   "execution_count": null,
   "metadata": {
    "ExecuteTime": {
     "end_time": "2020-10-21T10:14:15.586912Z",
     "start_time": "2020-10-21T10:14:11.901939Z"
    }
   },
   "outputs": [],
   "source": [
    "driver.get(url)"
   ]
  },
  {
   "cell_type": "code",
   "execution_count": null,
   "metadata": {
    "ExecuteTime": {
     "end_time": "2020-10-21T10:14:31.055119Z",
     "start_time": "2020-10-21T10:14:15.589881Z"
    },
    "scrolled": true
   },
   "outputs": [],
   "source": [
    "scroll_pane_height = driver.execute_script('return document.documentElement.scrollHeight')\n",
    "\n",
    "while True:\n",
    "    # 스크롤바를 스크롤 패인 높이만큼 이동\n",
    "    driver.execute_script('window.scrollTo(0,document.documentElement.scrollHeight)')\n",
    "    \n",
    "    # 밑에 붙일 내용을 요청해서 화면을 만들때까지 휴지\n",
    "    time.sleep(1)\n",
    "    new_scroll_pane_height = driver.execute_script('return document.documentElement.scrollHeight')\n",
    "    print(scroll_pane_height, new_scroll_pane_height)\n",
    "    if scroll_pane_height == new_scroll_pane_height:\n",
    "        break\n",
    "    scroll_pane_height = new_scroll_pane_height"
   ]
  },
  {
   "cell_type": "code",
   "execution_count": null,
   "metadata": {
    "ExecuteTime": {
     "end_time": "2020-10-21T10:14:39.289542Z",
     "start_time": "2020-10-21T10:14:39.139637Z"
    }
   },
   "outputs": [],
   "source": [
    "s = driver.page_source"
   ]
  },
  {
   "cell_type": "code",
   "execution_count": null,
   "metadata": {
    "ExecuteTime": {
     "end_time": "2020-10-21T10:14:44.920472Z",
     "start_time": "2020-10-21T10:14:44.653442Z"
    }
   },
   "outputs": [],
   "source": [
    "bs = BeautifulSoup(s, 'html.parser')"
   ]
  },
  {
   "cell_type": "code",
   "execution_count": null,
   "metadata": {
    "ExecuteTime": {
     "end_time": "2020-10-21T10:14:45.301575Z",
     "start_time": "2020-10-21T10:14:45.276388Z"
    }
   },
   "outputs": [],
   "source": [
    "a = bs.find('ul', class_ = 'My(0) Ov(h) P(0) Wow(bw)').find_all('li', class_ = 'js-stream-content Pos(r)')"
   ]
  },
  {
   "cell_type": "code",
   "execution_count": null,
   "metadata": {
    "ExecuteTime": {
     "end_time": "2020-10-21T10:14:45.728731Z",
     "start_time": "2020-10-21T10:14:45.721914Z"
    }
   },
   "outputs": [],
   "source": [
    "len(a)"
   ]
  },
  {
   "cell_type": "code",
   "execution_count": null,
   "metadata": {
    "ExecuteTime": {
     "end_time": "2020-10-21T10:14:47.938492Z",
     "start_time": "2020-10-21T10:14:47.934136Z"
    }
   },
   "outputs": [],
   "source": [
    "import pandas as pd"
   ]
  },
  {
   "cell_type": "code",
   "execution_count": null,
   "metadata": {
    "ExecuteTime": {
     "end_time": "2020-10-21T10:14:48.712338Z",
     "start_time": "2020-10-21T10:14:48.391633Z"
    }
   },
   "outputs": [],
   "source": [
    "total = pd.DataFrame()\n",
    "for news in a:\n",
    "    try:\n",
    "        title = news.find('a').get_text()\n",
    "        contents = news.find('p').get_text()\n",
    "        category = news.find('div', class_ = 'Fz(12px) Fw(b) Tt(c) D(ib) Mb(6px) C($c-fuji-blue-1-a) Mend(9px) Mt(-2px)').get_text()\n",
    "        publisher = news.find('div', class_ = 'C(#959595) Fz(11px) D(ib) Mb(6px)').get_text()\n",
    "        total = total.append(pd.DataFrame({'title' : [title], 'contents' : [contents], 'category' : [category], 'publisher' : [publisher]}))\n",
    "    except:\n",
    "        print('광고')\n",
    "total = total.reset_index(drop = True)"
   ]
  },
  {
   "cell_type": "code",
   "execution_count": null,
   "metadata": {
    "ExecuteTime": {
     "end_time": "2020-10-21T10:17:03.327330Z",
     "start_time": "2020-10-21T10:17:03.319197Z"
    }
   },
   "outputs": [],
   "source": [
    "total['category'].unique()"
   ]
  },
  {
   "cell_type": "code",
   "execution_count": null,
   "metadata": {
    "ExecuteTime": {
     "end_time": "2020-10-21T10:15:10.908674Z",
     "start_time": "2020-10-21T10:15:10.892290Z"
    }
   },
   "outputs": [],
   "source": [
    "total.reset_index(drop = True)"
   ]
  },
  {
   "cell_type": "code",
   "execution_count": null,
   "metadata": {
    "ExecuteTime": {
     "end_time": "2020-10-21T10:18:20.180720Z",
     "start_time": "2020-10-21T10:18:20.177008Z"
    }
   },
   "outputs": [],
   "source": [
    "from datetime import datetime"
   ]
  },
  {
   "cell_type": "code",
   "execution_count": null,
   "metadata": {
    "ExecuteTime": {
     "end_time": "2020-10-21T10:18:54.491190Z",
     "start_time": "2020-10-21T10:18:54.486534Z"
    }
   },
   "outputs": [],
   "source": [
    "print(type(datetime.today().date()))"
   ]
  },
  {
   "cell_type": "code",
   "execution_count": null,
   "metadata": {
    "ExecuteTime": {
     "end_time": "2020-10-21T10:19:46.624437Z",
     "start_time": "2020-10-21T10:19:46.608058Z"
    }
   },
   "outputs": [],
   "source": [
    "total.to_csv('./' + str(datetime.today().date()) + '.csv', index = False, encoding = 'utf8')"
   ]
  },
  {
   "cell_type": "code",
   "execution_count": null,
   "metadata": {
    "ExecuteTime": {
     "end_time": "2020-10-21T10:19:52.788824Z",
     "start_time": "2020-10-21T10:19:52.759334Z"
    }
   },
   "outputs": [],
   "source": [
    "df = pd.read_csv('./2020-10-21.csv')\n",
    "df.head()"
   ]
  },
  {
   "cell_type": "code",
   "execution_count": null,
   "metadata": {},
   "outputs": [],
   "source": []
  }
 ],
 "metadata": {
  "kernelspec": {
   "display_name": "Python 3",
   "language": "python",
   "name": "python3"
  },
  "language_info": {
   "codemirror_mode": {
    "name": "ipython",
    "version": 3
   },
   "file_extension": ".py",
   "mimetype": "text/x-python",
   "name": "python",
   "nbconvert_exporter": "python",
   "pygments_lexer": "ipython3",
   "version": "3.8.3"
  },
  "toc": {
   "base_numbering": 1,
   "nav_menu": {},
   "number_sections": true,
   "sideBar": true,
   "skip_h1_title": false,
   "title_cell": "Table of Contents",
   "title_sidebar": "Contents",
   "toc_cell": false,
   "toc_position": {},
   "toc_section_display": true,
   "toc_window_display": false
  }
 },
 "nbformat": 4,
 "nbformat_minor": 4
}
