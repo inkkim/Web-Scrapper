{
 "cells": [
  {
   "cell_type": "markdown",
   "metadata": {},
   "source": [
    "# YouTube Crawler V 1.1\n",
    "\n",
    "- 채널명, 구독자 수 컬럼 추가\n",
    "- 데이터 클렌징(value 값 한글 제거)\n",
    "\n",
    "__-- What's next?__\n",
    "\n",
    "- 구독자 수 단위 통일\n",
    "\n",
    "    - 만명, 천명, 명 -> 명 단위로 통일 후 한글 제거\n"
   ]
  },
  {
   "cell_type": "code",
   "execution_count": null,
   "metadata": {},
   "outputs": [],
   "source": [
    "#from selenium.webdriver.common.by import By # 언제까지 브라우저 접속을 기다려줄 지 결정\n",
    "#from selenium.webdriver.support.ui import WebDriverWait # By 모듈과 같이 자주 쓰인다.\n",
    "#from selenium.webdriver.support import expected_conditions as EC # 어떤 상태까지 기다리겠다(페이지 클릭이나 커서 이동)\n",
    "from selenium.webdriver.chrome.options import Options\n",
    "from selenium.webdriver.common.keys import Keys\n",
    "from bs4 import BeautifulSoup\n",
    "from selenium import webdriver\n",
    "import pandas as pd\n",
    "from tqdm import tqdm\n",
    "from tqdm import trange\n",
    "from urllib import parse\n",
    "import requests\n",
    "import lxml\n",
    "import time"
   ]
  },
  {
   "cell_type": "markdown",
   "metadata": {},
   "source": [
    "# 검색어 입력"
   ]
  },
  {
   "cell_type": "code",
   "execution_count": null,
   "metadata": {},
   "outputs": [],
   "source": [
    "name_txt = input('검색어 : ')\n",
    "name_txt"
   ]
  },
  {
   "cell_type": "markdown",
   "metadata": {},
   "source": [
    "# 크롬 웹드라이버 실행 "
   ]
  },
  {
   "cell_type": "code",
   "execution_count": null,
   "metadata": {},
   "outputs": [],
   "source": [
    "chrome_options = Options()\n",
    "#chrome_options.add_argument(\"--headless\") # 브라우저가 화면에 뜨지 않고 내부적으로 실행\n",
    "\n",
    "# webdriver 설정\n",
    "browser = webdriver.Chrome('./chromedriver', options = chrome_options)\n",
    "\n",
    "# 크롬 브라우저 내부 대기\n",
    "#browser.implicitly_wait(6)\n",
    "\n",
    "# chrome을 전체화면으로 넓히는 옵션\n",
    "browser.maximize_window()\n",
    "\n",
    "# 특정 URL로 브라우저 이동\n",
    "youtube = 'https://www.youtube.com/'\n",
    "browser.get(youtube)"
   ]
  },
  {
   "cell_type": "markdown",
   "metadata": {},
   "source": [
    "# 검색창에 검색어 입력"
   ]
  },
  {
   "cell_type": "code",
   "execution_count": null,
   "metadata": {},
   "outputs": [],
   "source": [
    "element = browser.find_element_by_name(\"search_query\") # 검색창 클릭(객체 지정)\n",
    "element.send_keys(name_txt) # 검색어 입력\n",
    "element.submit() # 입력 보내기"
   ]
  },
  {
   "cell_type": "markdown",
   "metadata": {},
   "source": [
    "# 필터 설정"
   ]
  },
  {
   "cell_type": "code",
   "execution_count": null,
   "metadata": {},
   "outputs": [],
   "source": [
    "# 필터 기준 - 업로드 날짜 - 한 달\n",
    "browser.find_element_by_xpath('/html/body/ytd-app/div/ytd-page-manager/ytd-search/div[1]/ytd-two-column-search-results-renderer/div/ytd-section-list-renderer/div[1]/div[2]/ytd-search-sub-menu-renderer/div[1]/div/ytd-toggle-button-renderer/a/paper-button').click() # 필터 한 달\n",
    "click_1 = browser.find_element_by_xpath('/html/body/ytd-app/div/ytd-page-manager/ytd-search/div[1]/ytd-two-column-search-results-renderer/div/ytd-section-list-renderer/div[1]/div[2]/ytd-search-sub-menu-renderer/div[1]/iron-collapse/div/ytd-search-filter-group-renderer[1]/ytd-search-filter-renderer[4]/a/div/yt-formatted-string')\n",
    "time.sleep(0.5)\n",
    "click_1.click()\n",
    "\n",
    "time.sleep(2)\n",
    "\n",
    "# 필터 기준 - 정렬 기준 - 조회수\n",
    "browser.find_element_by_xpath('/html/body/ytd-app/div/ytd-page-manager/ytd-search/div[1]/ytd-two-column-search-results-renderer/div/ytd-section-list-renderer/div[1]/div[2]/ytd-search-sub-menu-renderer/div[1]/div/ytd-toggle-button-renderer/a/paper-button').click()\n",
    "click_2 = browser.find_element_by_xpath('/html/body/ytd-app/div/ytd-page-manager/ytd-search/div[1]/ytd-two-column-search-results-renderer/div/ytd-section-list-renderer/div[1]/div[2]/ytd-search-sub-menu-renderer/div[1]/iron-collapse/div/ytd-search-filter-group-renderer[5]/ytd-search-filter-renderer[3]/a/div/yt-formatted-string')\n",
    "time.sleep(0.5)\n",
    "click_2.click()"
   ]
  },
  {
   "cell_type": "markdown",
   "metadata": {},
   "source": [
    "# 무한 스크롤 "
   ]
  },
  {
   "cell_type": "code",
   "execution_count": null,
   "metadata": {},
   "outputs": [],
   "source": [
    "scroll_pane_height = browser.execute_script('return document.documentElement.scrollHeight')\n",
    "\n",
    "while True:\n",
    "    # 스크롤바를 스크롤 패인 높이만큼 이동\n",
    "    browser.execute_script('window.scrollTo(0,document.documentElement.scrollHeight)')\n",
    "    \n",
    "    # 밑에 붙일 내용을 요청해서 화면을 만들때까지 휴지\n",
    "    time.sleep(1)\n",
    "    new_scroll_pane_height = browser.execute_script('return document.documentElement.scrollHeight')\n",
    "    print(scroll_pane_height, new_scroll_pane_height)\n",
    "    if scroll_pane_height == new_scroll_pane_height:\n",
    "        break\n",
    "    scroll_pane_height = new_scroll_pane_height"
   ]
  },
  {
   "cell_type": "markdown",
   "metadata": {},
   "source": [
    "# 동영상 URL 가져오기"
   ]
  },
  {
   "cell_type": "code",
   "execution_count": null,
   "metadata": {},
   "outputs": [],
   "source": [
    "# browser 내용 보기\n",
    "title, url, tmp = [], [], []\n",
    "soup = BeautifulSoup(browser.page_source, 'lxml')\n",
    "video_url = soup.select('a#video-title')\n",
    "for video in video_url:\n",
    "    tmp.append(video.attrs['aria-label'].split()[-1:]) # 조회수\n",
    "    url.append(youtube + video.attrs['href']) # URL\n",
    "    title.append(video.attrs['title'])\n",
    "URL = pd.DataFrame({'제목' : title, 'URL' : url, '조회수' : tmp})"
   ]
  },
  {
   "cell_type": "code",
   "execution_count": null,
   "metadata": {},
   "outputs": [],
   "source": [
    "URL.sample(10)"
   ]
  },
  {
   "cell_type": "code",
   "execution_count": null,
   "metadata": {
    "scrolled": true
   },
   "outputs": [],
   "source": [
    "URL"
   ]
  },
  {
   "cell_type": "code",
   "execution_count": null,
   "metadata": {
    "scrolled": true
   },
   "outputs": [],
   "source": [
    "URL['URL']"
   ]
  },
  {
   "cell_type": "markdown",
   "metadata": {},
   "source": [
    "# URL로 순서대로 접근하여 필요 정보 수집\n",
    "- 업로드 시기, 조회수, 좋아요, 싫어요, 댓글수"
   ]
  },
  {
   "cell_type": "code",
   "execution_count": null,
   "metadata": {},
   "outputs": [],
   "source": [
    "import pandas as pd\n",
    "import requests\n",
    "import time\n",
    "import re"
   ]
  },
  {
   "cell_type": "code",
   "execution_count": null,
   "metadata": {},
   "outputs": [],
   "source": [
    "video = browser.page_source\n",
    "s = BeautifulSoup(video, 'lxml')\n",
    "s"
   ]
  },
  {
   "cell_type": "code",
   "execution_count": null,
   "metadata": {},
   "outputs": [],
   "source": [
    "channel_sub = s.find_all('div', id = 'upload-info')\n",
    "channel_sub[1].select('yt-formatted-string')[1].get_text()"
   ]
  },
  {
   "cell_type": "code",
   "execution_count": null,
   "metadata": {},
   "outputs": [],
   "source": [
    "total = pd.DataFrame()\n",
    "for idx in range(len(URL['URL'])):\n",
    "    if idx % 5 == 0:    print(idx)\n",
    "    browser.get(URL['URL'][idx])\n",
    "    time.sleep(1)\n",
    "    browser.find_element_by_tag_name('body').send_keys(Keys.END)\n",
    "    time.sleep(0.5)\n",
    "    browser.find_element_by_tag_name('body').send_keys(Keys.END)\n",
    "    time.sleep(5)\n",
    "    video = browser.page_source\n",
    "    s = BeautifulSoup(video, 'lxml')\n",
    "\n",
    "    view_date = s.find('div', id = 'info-text')\n",
    "    good_bad = s.find_all('div', id = 'top-level-buttons')\n",
    "    channel_sub = s.find_all('div', id = 'upload-info')\n",
    "    reply = s.find_all(\"yt-formatted-string\", class_ = 'count-text style-scope ytd-comments-header-renderer')\n",
    "\n",
    "    pattern_view = re.compile('조회수 .*회')\n",
    "    pattern_date = re.compile('[0-9]+. [0-9]+. [0-9]+.')\n",
    "    pattern_good = re.compile('좋아요 .*개')\n",
    "    pattern_bad = re.compile('싫어요 .*개')\n",
    "    pattern_reply = re.compile('댓글.*개')\n",
    "    \n",
    "    view_ = pattern_view.findall(str(view_date))\n",
    "    view_ = str([view_[0].split('</span>')[0]])\n",
    "    date_ = pattern_date.findall(str(view_date))\n",
    "    good_ = str(pattern_good.findall(str(good_bad)))\n",
    "    bad_ = str(pattern_bad.findall(str(good_bad)))\n",
    "    reply_ = str(pattern_reply.findall(str(reply)))\n",
    "    try:\n",
    "        channel_ = channel_sub[1].select('a')[0].get_text()\n",
    "        subscriber_ = channel_sub[1].select('yt-formatted-string')[1].get_text()[4:]\n",
    "    except:\n",
    "        channel_ = channel_sub[0].select('a')[0].get_text()\n",
    "        subscriber_ = channel_sub[0].select('yt-formatted-string')[1].get_text()[4:]\n",
    "    \n",
    "    if view_ == []: \n",
    "        print('view_')\n",
    "        view_ = ['NaN']\n",
    "    else: view_ = view_[6:-3]\n",
    "    if date_ == []: \n",
    "        print('date_')\n",
    "        date_ = ['NaN']\n",
    "    if good_ == []: \n",
    "        print('good_')\n",
    "        good_ = ['NaN']\n",
    "    else: good_ = good_[6:-3]\n",
    "    if bad_ == []: \n",
    "        print('bad_')\n",
    "        bad_ = ['NaN']\n",
    "    else: bad_ = bad_[6:-3]\n",
    "    if reply_ == []: \n",
    "        print('reply_')\n",
    "        reply_ = ['NaN']\n",
    "    else: reply_ = reply_[5:-3]\n",
    "    if channel_ == []: \n",
    "        print('channel_')\n",
    "        channel_ = ['NaN']\n",
    "    if subscriber_ == []: \n",
    "        print('subscriber_')\n",
    "        subscriber_ = ['NaN']\n",
    "        \n",
    "    df = pd.DataFrame({'제목' : [URL['제목'][idx]],'채널명' : channel_ , '구독자 수' : subscriber_, '조회수' : view_, '좋아요' : good_, '싫어요' : bad_, '댓글수' : reply_ , '업로드 날짜' : date_, 'URL' : [URL['URL'][idx]]})\n",
    "    total = total.append(df)\n",
    "    if idx == 5:\n",
    "        break"
   ]
  },
  {
   "cell_type": "code",
   "execution_count": null,
   "metadata": {
    "scrolled": true
   },
   "outputs": [],
   "source": [
    "df"
   ]
  },
  {
   "cell_type": "code",
   "execution_count": null,
   "metadata": {},
   "outputs": [],
   "source": [
    "total = total.reset_index(drop = True)\n",
    "total#['댓글수']"
   ]
  },
  {
   "cell_type": "code",
   "execution_count": null,
   "metadata": {},
   "outputs": [],
   "source": [
    "browser.close()"
   ]
  },
  {
   "cell_type": "markdown",
   "metadata": {},
   "source": [
    "--- "
   ]
  },
  {
   "cell_type": "code",
   "execution_count": null,
   "metadata": {},
   "outputs": [],
   "source": [
    "browser.get(URL['URL'][0])"
   ]
  },
  {
   "cell_type": "code",
   "execution_count": null,
   "metadata": {},
   "outputs": [],
   "source": [
    "browser.execute_script('window.scrollTo(0,document.documentElement.scrollHeight)')"
   ]
  },
  {
   "cell_type": "code",
   "execution_count": null,
   "metadata": {},
   "outputs": [],
   "source": [
    "view = pattern_view.findall(str(view_date))\n",
    "view = [view[0].split('</span>')[0]]\n",
    "view"
   ]
  },
  {
   "cell_type": "code",
   "execution_count": null,
   "metadata": {},
   "outputs": [],
   "source": [
    "date = pattern_date.findall(str(view_date))\n",
    "date"
   ]
  },
  {
   "cell_type": "code",
   "execution_count": null,
   "metadata": {},
   "outputs": [],
   "source": [
    "good_bad = s.find_all('div', id = 'top-level-buttons')"
   ]
  },
  {
   "cell_type": "code",
   "execution_count": null,
   "metadata": {},
   "outputs": [],
   "source": [
    "pattern_good = re.compile('좋아요 .*개')\n",
    "pattern_bad = re.compile('싫어요 .*개')"
   ]
  },
  {
   "cell_type": "code",
   "execution_count": null,
   "metadata": {},
   "outputs": [],
   "source": [
    "pattern_good.findall(str(good_bad))"
   ]
  },
  {
   "cell_type": "code",
   "execution_count": null,
   "metadata": {},
   "outputs": [],
   "source": [
    "pattern_bad.findall(str(good_bad))"
   ]
  },
  {
   "cell_type": "code",
   "execution_count": null,
   "metadata": {},
   "outputs": [],
   "source": [
    "reply = s.find_all(\"yt-formatted-string\", class_ = 'count-text style-scope ytd-comments-header-renderer')\n",
    "reply"
   ]
  },
  {
   "cell_type": "code",
   "execution_count": null,
   "metadata": {},
   "outputs": [],
   "source": [
    "pattern_reply = re.compile('댓글.*개')\n",
    "pattern_reply.findall(str(reply))"
   ]
  },
  {
   "cell_type": "code",
   "execution_count": null,
   "metadata": {},
   "outputs": [],
   "source": []
  },
  {
   "cell_type": "code",
   "execution_count": null,
   "metadata": {
    "scrolled": true
   },
   "outputs": [],
   "source": [
    "view_date = s.find('div', id = 'info-text')\n",
    "view_date"
   ]
  },
  {
   "cell_type": "code",
   "execution_count": null,
   "metadata": {},
   "outputs": [],
   "source": [
    "pattern_date = re.compile('[0-9]+. [0-9]+. [0-9]+.')"
   ]
  },
  {
   "cell_type": "code",
   "execution_count": null,
   "metadata": {},
   "outputs": [],
   "source": [
    "pattern_date.findall(str(view_date))"
   ]
  },
  {
   "cell_type": "code",
   "execution_count": null,
   "metadata": {},
   "outputs": [],
   "source": []
  },
  {
   "cell_type": "code",
   "execution_count": null,
   "metadata": {},
   "outputs": [],
   "source": [
    "total = pd.DataFrame()\n",
    "for idx in range(len(URL['URL'])):\n",
    "    if idx % 5 == 0:    print(idx)\n",
    "    browser.get(URL['URL'][idx])\n",
    "    time.sleep(1)\n",
    "    browser.find_element_by_tag_name('body').send_keys(Keys.END)\n",
    "    time.sleep(0.5)\n",
    "    browser.find_element_by_tag_name('body').send_keys(Keys.END)\n",
    "    time.sleep(5)\n",
    "    video = browser.page_source\n",
    "    s = BeautifulSoup(video, 'lxml')\n",
    "\n",
    "    view_date = s.find('div', id = 'info-text')\n",
    "    good_bad = s.find_all('div', id = 'top-level-buttons')\n",
    "    channel_sub = s.find_all('div', id = 'upload-info')\n",
    "    reply = s.find_all(\"yt-formatted-string\", class_ = 'count-text style-scope ytd-comments-header-renderer')\n",
    "\n",
    "    pattern_view = re.compile('조회수 .*회')\n",
    "    pattern_date = re.compile('[0-9]+. [0-9]+. [0-9]+.')\n",
    "    pattern_good = re.compile('좋아요 .*개')\n",
    "    pattern_bad = re.compile('싫어요 .*개')\n",
    "    pattern_reply = re.compile('댓글.*개')\n",
    "    \n",
    "    view_ = pattern_view.findall(str(view_date))\n",
    "    view_ = str([view_[0].split('</span>')[0]])\n",
    "    date_ = pattern_date.findall(str(view_date))\n",
    "    good_ = str(pattern_good.findall(str(good_bad)))\n",
    "    bad_ = str(pattern_bad.findall(str(good_bad)))\n",
    "    reply_ = str(pattern_reply.findall(str(reply)))\n",
    "    try:\n",
    "        channel_ = channel_sub[1].select('a')[0].get_text()\n",
    "        subscriber_ = channel_sub[1].select('yt-formatted-string')[1].get_text()[4:]\n",
    "    except:\n",
    "        channel_ = channel_sub[0].select('a')[0].get_text()\n",
    "        subscriber_ = channel_sub[0].select('yt-formatted-string')[1].get_text()[4:]\n",
    "    \n",
    "    if view_ == []: \n",
    "        print('view_')\n",
    "        view_ = ['NaN']\n",
    "    else: view_ = view_[6:-3]\n",
    "    if date_ == []: \n",
    "        print('date_')\n",
    "        date_ = ['NaN']\n",
    "    if good_ == []: \n",
    "        print('good_')\n",
    "        good_ = ['NaN']\n",
    "    else: good_ = good_[6:-3]\n",
    "    if bad_ == []: \n",
    "        print('bad_')\n",
    "        bad_ = ['NaN']\n",
    "    else: bad_ = bad_[6:-3]\n",
    "    if reply_ == []: \n",
    "        print('reply_')\n",
    "        reply_ = ['NaN']\n",
    "    else: reply_ = reply_[5:-3]\n",
    "    if channel_ == []: \n",
    "        print('channel_')\n",
    "        channel_ = ['NaN']\n",
    "    if subscriber_ == []: \n",
    "        print('subscriber_')\n",
    "        subscriber_ = ['NaN']\n",
    "        \n",
    "    df = pd.DataFrame({'제목' : [URL['제목'][idx]],'채널명' : channel_ , '구독자 수' : subscriber_, '조회수' : view_, '좋아요' : good_, '싫어요' : bad_, '댓글수' : reply_ , '업로드 날짜' : date_, 'URL' : [URL['URL'][idx]]})\n",
    "    total = total.append(df)\n",
    "    if idx == 5:\n",
    "        break"
   ]
  }
 ],
 "metadata": {
  "kernelspec": {
   "display_name": "Python 3",
   "language": "python",
   "name": "python3"
  },
  "language_info": {
   "codemirror_mode": {
    "name": "ipython",
    "version": 3
   },
   "file_extension": ".py",
   "mimetype": "text/x-python",
   "name": "python",
   "nbconvert_exporter": "python",
   "pygments_lexer": "ipython3",
   "version": "3.8.3"
  },
  "toc": {
   "base_numbering": 1,
   "nav_menu": {},
   "number_sections": true,
   "sideBar": true,
   "skip_h1_title": false,
   "title_cell": "Table of Contents",
   "title_sidebar": "Contents",
   "toc_cell": false,
   "toc_position": {},
   "toc_section_display": true,
   "toc_window_display": false
  }
 },
 "nbformat": 4,
 "nbformat_minor": 4
}
