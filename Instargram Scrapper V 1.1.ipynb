{
 "cells": [
  {
   "cell_type": "markdown",
   "metadata": {},
   "source": [
    "# Intargram Crawler V 1.1\n",
    "- 나무위키에 등록된 인물의 인스타그램 URL 수집 \n",
    "    - __동명이인 이슈 발생 (요 수정)__\n",
    "- 수집된 URL에 차례로 접근하여 필요한 정보 수집\n",
    "    - 팔로워 수 (O)\n",
    "    - 팔로잉 수 (O)\n",
    "    - 게시글 수 (O)\n",
    "    - 좋아요 수 (O)\n",
    "        - 평균 좋아요 수\n",
    "    - 업로드 일 수 (O)\n",
    "        - 업로드 간격\n",
    "        - 가장 최근 업로드 일"
   ]
  },
  {
   "cell_type": "code",
   "execution_count": null,
   "metadata": {},
   "outputs": [],
   "source": [
    "from selenium import webdriver\n",
    "from selenium.webdriver.common.by import By\n",
    "from selenium.webdriver.common.action_chains import ActionChains\n",
    "from selenium.webdriver.chrome.options import Options\n",
    "from selenium.webdriver.common.keys import Keys\n",
    "from bs4 import BeautifulSoup\n",
    "from selenium import webdriver\n",
    "from tqdm import tqdm\n",
    "from tqdm import trange\n",
    "from urllib import parse\n",
    "from datetime import datetime\n",
    "import pandas as pd\n",
    "import numpy as np\n",
    "import requests\n",
    "import lxml\n",
    "import time"
   ]
  },
  {
   "cell_type": "markdown",
   "metadata": {},
   "source": [
    "# 검색어 입력"
   ]
  },
  {
   "cell_type": "code",
   "execution_count": null,
   "metadata": {},
   "outputs": [],
   "source": [
    "target_txt = ['김연아', '장성규', '김우빈', '이순재', '손흥민', '안재홍',  '유재석', '정준하', '정형돈',  '장도연']"
   ]
  },
  {
   "cell_type": "markdown",
   "metadata": {},
   "source": [
    "# 나무위키\n",
    "\n",
    "- 각 인물 정보 페이지에서 인스타그램 링크 수집"
   ]
  },
  {
   "cell_type": "code",
   "execution_count": null,
   "metadata": {
    "scrolled": true
   },
   "outputs": [],
   "source": [
    "# 인물의 인스타그램 정보 추출\n",
    "def url_collector(for_same = False, retry = False):\n",
    "    \n",
    "    instagram = []\n",
    "    dt = {}\n",
    "    # 인물의 이름을 차례로받아 url을 완성\n",
    "    for name in target_txt:\n",
    "        ans = False\n",
    "        if for_same == False:\n",
    "            url_namu = 'https://namu.wiki/w/{}'.format(name)\n",
    "        else:\n",
    "            print(for_same)\n",
    "            url_namu = for_same\n",
    "        \n",
    "        # 해당 인물정보 페이지의 소스를 분석\n",
    "        r = requests.get(url_namu)\n",
    "        bs = BeautifulSoup(r.text, 'html.parser')\n",
    "        \n",
    "        # 해당 페이지 소스에 모든 <table> tag를 가져옴\n",
    "        table = bs.find_all('table')\n",
    "        \n",
    "        # 많은 table 중 인물정보 table을 특정\n",
    "        for i in table:\n",
    "            if '출생' in str(i):\n",
    "                target_table = i\n",
    "                break\n",
    "        \n",
    "        # 해당 table의 모든 row 조회\n",
    "        rows = target_table.find_all('tr')\n",
    "        \n",
    "        # 마지막 row = SNS link\n",
    "        target_row = rows[-1].find_all('a')\n",
    "        \n",
    "        # SNS row에서 instagram url 조회, 성공 시 반환\n",
    "        for x in target_row:\n",
    "            if 'instagram' in x.get('href'):\n",
    "                ans = x.get('href')\n",
    "                instagram.append(ans)\n",
    "                print(ans, name)\n",
    "                dt[name] = ans\n",
    "                \n",
    "    return dt ### 이름도 반환\n",
    "instagram = url_collector()\n",
    "instagram"
   ]
  },
  {
   "cell_type": "code",
   "execution_count": null,
   "metadata": {},
   "outputs": [],
   "source": [
    "# 동명이인 이슈 발생 시 올바른 나무위키 인물정보 페이지 후보들을 리턴하는 함수\n",
    "def same_name(name):\n",
    "    serch_url = 'https://namu.wiki/Search?target=title_content&q={}&namespace='.format(name)\n",
    "    namu = 'https://namu.wiki'\n",
    "    full = []\n",
    "    re = requests.get(serch_url)\n",
    "    bs_same = BeautifulSoup(re.text, 'html.parser')\n",
    "    section = bs_same.find('section')\n",
    "    rows = section.find_all('div')\n",
    "    for row in rows:\n",
    "        for category in ['(배우)', '(가수)', '(모델)', '(방송인)', '(아나운서)', '(코미디언)']:\n",
    "            if category in str(row):\n",
    "                query = row.find('a').get('href')\n",
    "                if len(query.split('/')) != 3:\n",
    "                    tmp =query.split('/')\n",
    "                    query = '/' + tmp[1] + '/' + tmp[2]\n",
    "            \n",
    "                full_url = [namu + query, category.replace('(', '').replace(')', '')]\n",
    "                full.append(full_url)\n",
    "    \n",
    "    if full == []:\n",
    "        full = [[namu + '/w/' + name]]\n",
    "    return full\n",
    "same_name('한혜진')#[0][0]"
   ]
  },
  {
   "cell_type": "markdown",
   "metadata": {},
   "source": [
    "# 인스타그램\n",
    "- 각 인물의 인스타그램 타임라인에서 필요한 정보 수집\n",
    "- 필요 정보\n",
    "    - 팔로워\n",
    "    - 팔로잉\n",
    "    - 게시글\n",
    "    - 평균 좋아요 수\n",
    "    - 평균 댓글 수\n",
    "    - 평균 업로드 일 간격\n",
    "    - 가장 최근 활동 일 (게시글 기준)\n",
    "        - 현재 - 가장 최근 게시글 게시일(return : 일 수)\n",
    "            "
   ]
  },
  {
   "cell_type": "markdown",
   "metadata": {},
   "source": [
    "# 각 게시물 필요 정보 수집\n",
    "- 게시일\n",
    "- 좋아요"
   ]
  },
  {
   "cell_type": "code",
   "execution_count": null,
   "metadata": {},
   "outputs": [],
   "source": [
    "options = webdriver.ChromeOptions()\n",
    "options.headless = False\n",
    "#options.add_argument(\"window-size=1920x1080\") # 가상화면 크기\n",
    "options.add_argument(\"user-agent=Mozilla/5.0 (Windows NT 10.0; Win64; x64) AppleWebKit/537.36 (KHTML, like Gecko) Chrome/84.0.4147.135 Safari/537.36\")\n",
    "\n",
    "# 브라우저 기동\n",
    "driver = webdriver.Chrome('./chromedriver', options = options)\n",
    "\n",
    "# 정보 입력\n",
    "id = '01089409078'\n",
    "pw = '!high48top'\n",
    "\n",
    "# 클립보드에 input을 복사한 뒤\n",
    "# 해당 내용을 actionChain을 이용해 로그인 폼에 붙여넣기\n",
    "driver.get('https://www.instagram.com/accounts/login')\n",
    "# 모든 동작마다 크롬브라우저가 준비될 때 까지 최대 3초씩 대기\n",
    "driver.implicitly_wait(3)\n",
    "\n",
    "driver.find_element_by_xpath('//*[@id=\"loginForm\"]/div/div[1]/div/label/input').send_keys(id)\n",
    "time.sleep(1)\n",
    "driver.find_element_by_xpath('//*[@id=\"loginForm\"]/div/div[2]/div/label/input').send_keys(pw)\n",
    "time.sleep(1)\n",
    "driver.find_element_by_xpath('//*[@id=\"loginForm\"]/div/div[3]').click()\n",
    "time.sleep(3)\n",
    "\n",
    "driver.maximize_window()\n",
    "driver.find_element_by_xpath('/html/body/div[1]/section/main/div/div/div/div/button').click()\n",
    "time.sleep(0.5)\n",
    "driver.find_element_by_xpath('/html/body/div[4]/div/div/div/div[3]/button[2]').click()\n",
    "\n",
    "\n",
    "print('로그인 완료')"
   ]
  },
  {
   "cell_type": "code",
   "execution_count": null,
   "metadata": {},
   "outputs": [],
   "source": [
    "total = pd.DataFrame()\n",
    "for people, account in instagram.items():\n",
    "\n",
    "    # 각 인물 인스타그램 URL 접근\n",
    "    driver.get(account)\n",
    "    time.sleep(1)\n",
    "    # 닉네임 추출\n",
    "    nick = account.split('/')[-1]\n",
    "\n",
    "    # 계정 URL 끝이 '/'인 경우\n",
    "    if nick == '':\n",
    "        nick = account.split('/')[-2]\n",
    "\n",
    "    # 게시글 수 추출    \n",
    "    post = driver.find_element_by_xpath('/html/body/div[1]/section/main/div/header/section/ul/li[1]/span/span')\\\n",
    "    .text.strip()\n",
    "\n",
    "    # 팔로워 수\n",
    "    followers = driver.find_element_by_xpath('/html/body/div[1]/section/main/div/header/section/ul/li[2]/a/span')\\\n",
    "    .text.strip()\n",
    "    followers = followers.replace('백만', '*1000000').replace('천', '*1000').replace('명', '').split('*')\n",
    "    if len(followers) == 2:\n",
    "        followers = int(float(followers[0]) * int(followers[1]))\n",
    "    else:\n",
    "        followers = int(followers[0])\n",
    "        \n",
    "    # 팔로잉 수\n",
    "    followings = driver.find_element_by_xpath('/html/body/div[1]/section/main/div/header/section/ul/li[3]/a/span')\\\n",
    "    .text.strip()\n",
    "    followings = followings.replace('백만', '*1000000').replace('천', '*1000').replace('명', '').split('*')\n",
    "    if len(followings) == 2:\n",
    "        followings = int(float(followings)[0]) * int(followings[1]) \n",
    "    else:\n",
    "        followings = int(followings[0])\n",
    "    \n",
    "    # 데이터프레임 화\n",
    "    total = total.append(pd.DataFrame({'Name' : [people], 'Nickname' : [nick], \\\n",
    "                        'Followers' : [format(followers, ',')], 'Followings' : [followings], 'Posts' : [post]}))\n",
    "    \n",
    "    PostInfo = pd.DataFrame()\n",
    "\n",
    "    # 첫 번째 게시물 선택\n",
    "    driver.find_element_by_xpath('/html/body/div[1]/section/main/div/div[2]/article/div[1]/div/div[1]/div[1]').click()\n",
    "    \n",
    "    # 게시물 끝까지 넘기기\n",
    "    for PageNo in range(int(post)):\n",
    "        # 게시일 수집\n",
    "        date = driver.find_element_by_xpath('/html/body/div[4]/div[2]/div/article/div[3]/div[2]/a/time').get_attribute('title')\n",
    "        \n",
    "        # 좋아요 수집\n",
    "        try: # 사진\n",
    "            like = driver.find_element_by_xpath(\"/html/body/div[4]/div[2]/div/article/div[3]/section[2]/div/div/button/span\").text.replace(' ', '')\n",
    "        except: # 동영상 \n",
    "            like = np.NaN\n",
    "        \n",
    "        # 페이지 넘기기\n",
    "        if PageNo == 0:\n",
    "            driver.find_element_by_xpath('/html/body/div[4]/div[1]/div/div/a').click()\n",
    "            time.sleep(1)\n",
    "        elif PageNo < (int(post) - 1): \n",
    "            driver.find_element_by_xpath('/html/body/div[4]/div[1]/div/div/a[2]').click()\n",
    "            time.sleep(1)\n",
    "            \n",
    "        # 데이터프레임 화\n",
    "        PostInfo = PostInfo.append(pd.DataFrame({\"Name\" : [people], \"PostDate\" : [str(date).strip()], \"PostLike\" : [str(like)]}))\n",
    "        \n",
    "    break\n",
    "PostInfo = PostInfo.reset_index(drop = True)\n",
    "# 게시일 datetime화\n",
    "PostInfo['Datetime'] = PostInfo['PostDate'].apply(lambda x: datetime.strptime(x, \"%Y년 %m월 %d일\"))\n",
    "# 게시일 간격 변수 생성\n",
    "PostInfo['PostInterval'] = PostInfo['Datetime'].diff(-1)\n",
    "PostInfo['PostInterval'] = PostInfo['PostInterval'].apply(lambda x: x.days)\n",
    "total = total.reset_index(drop = True)"
   ]
  },
  {
   "cell_type": "code",
   "execution_count": null,
   "metadata": {},
   "outputs": [],
   "source": [
    "total"
   ]
  },
  {
   "cell_type": "code",
   "execution_count": null,
   "metadata": {},
   "outputs": [],
   "source": [
    "PostInfo['PostInterval'][0].days"
   ]
  },
  {
   "cell_type": "code",
   "execution_count": null,
   "metadata": {},
   "outputs": [],
   "source": [
    "total.to_csv('./Export/Instagram_Profile.csv', index = False, encoding = 'utf8')\n",
    "PostInfo.to_csv('./Export/Instagram_Post_Info.csv', index = False, encoding = 'utf8' )"
   ]
  },
  {
   "cell_type": "markdown",
   "metadata": {},
   "source": [
    "---"
   ]
  },
  {
   "cell_type": "code",
   "execution_count": null,
   "metadata": {},
   "outputs": [],
   "source": [
    "PostInfo = pd.DataFrame()\n",
    "for tile in tile_link:\n",
    "    for t in tile:\n",
    "        driver.get(t)\n",
    "        time.sleep(1)\n",
    "        date = driver.find_element_by_xpath(\"/html/body/div[1]/section/main/div/div[1]/article/div[3]/div[2]/a/time\").get_attribute('title')\n",
    "        try:\n",
    "            like = driver.find_element_by_xpath(\"/html/body/div[1]/section/main/div/div[1]/article/div[3]/section[2]/div/div/button/span\").text.replace(' ', '')\n",
    "        except:\n",
    "            like = np.NaN\n",
    "        PostInfo = PostInfo.append(pd.DataFrame({\"PostDate\" : [str(date)], \"PostLike\" : [str(like)]}))\n",
    "PostInfo = PostInfo.reset_index(drop = True)"
   ]
  },
  {
   "cell_type": "code",
   "execution_count": null,
   "metadata": {},
   "outputs": [],
   "source": [
    "driver.close()"
   ]
  },
  {
   "cell_type": "code",
   "execution_count": null,
   "metadata": {},
   "outputs": [],
   "source": [
    "PostInfo = pd.DataFrame()\n",
    "for people, account in instagram.items():\n",
    "    \n",
    "    driver.get('https://www.instagram.com/hm_son7/')\n",
    "    time.sleep(3)\n",
    "    \n",
    "    driver.find_element_by_xpath('/html/body/div[1]/section/main/div/div[2]/article/div[1]/div/div[1]/div[1]').click()\n",
    "    # 게시물 끝까지 넘기기\n",
    "    for PageNo in range(92 - 1):\n",
    "        # 게시일 수집\n",
    "        date = driver.find_element_by_xpath('/html/body/div[4]/div[2]/div/article/div[3]/div[2]/a/time').get_attribute('title')\n",
    "        \n",
    "        # 좋아요 수집\n",
    "        try: # 사진\n",
    "            like = driver.find_element_by_xpath(\"/html/body/div[4]/div[2]/div/article/div[3]/section[2]/div/div/button/span\").text.replace(' ', '')\n",
    "        except: # 동영상 \n",
    "            like = np.NaN\n",
    "        \n",
    "        # 데이터프레임 화\n",
    "        PostInfo = PostInfo.append(pd.DataFrame({\"Name\" : [people], \"PostDate\" : [str(date)], \"PostLike\" : [str(like)]}))\n",
    "        \n",
    "        # 페이지 넘기기\n",
    "        if PageNo == 0:\n",
    "            driver.find_element_by_xpath('/html/body/div[4]/div[1]/div/div/a').click()\n",
    "            time.sleep(1)\n",
    "        else : \n",
    "            driver.find_element_by_xpath('/html/body/div[4]/div[1]/div/div/a[2]').click()\n",
    "            time.sleep(1)\n",
    "        \n",
    "    break\n",
    "PostInfo = PostInfo.reset_index(drop = True)"
   ]
  }
 ],
 "metadata": {
  "kernelspec": {
   "display_name": "Python 3",
   "language": "python",
   "name": "python3"
  },
  "language_info": {
   "codemirror_mode": {
    "name": "ipython",
    "version": 3
   },
   "file_extension": ".py",
   "mimetype": "text/x-python",
   "name": "python",
   "nbconvert_exporter": "python",
   "pygments_lexer": "ipython3",
   "version": "3.8.3"
  },
  "toc": {
   "base_numbering": 1,
   "nav_menu": {},
   "number_sections": true,
   "sideBar": true,
   "skip_h1_title": false,
   "title_cell": "Table of Contents",
   "title_sidebar": "Contents",
   "toc_cell": false,
   "toc_position": {},
   "toc_section_display": true,
   "toc_window_display": false
  }
 },
 "nbformat": 4,
 "nbformat_minor": 4
}
